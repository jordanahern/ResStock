{
 "cells": [
  {
   "cell_type": "code",
   "execution_count": null,
   "id": "5931acbb-4bcb-44bc-94c3-0d7befbdada0",
   "metadata": {},
   "outputs": [],
   "source": [
    "import pandas as pd\n",
    "\n",
    "# Path to the input file\n",
    "file_path = 'path_to_your_file.csv'\n",
    "\n",
    "# Load the file, removing leading characters from values to ensure they are read as numbers\n",
    "df = pd.read_csv(file_path, converters={col: lambda x: x.lstrip(\"'\") if isinstance(x, str) else x for col in df.columns})\n",
    "\n",
    "# Parse the timestamp column and set it as the index\n",
    "df['Timestamp (EST)'] = pd.to_datetime(df['Timestamp (EST)'], errors='coerce')\n",
    "df.set_index('Timestamp (EST)', inplace=True)\n",
    "\n",
    "# Convert all columns to numeric, errors='coerce' converts non-numeric values to NaN\n",
    "df = df.apply(pd.to_numeric, errors='coerce')\n",
    "\n",
    "# Filter to include only columns with \"electricity\" in their names\n",
    "df_electricity_only = df.filter(like='electricity')\n",
    "\n",
    "# Resample the DataFrame to hourly granularity by summing up the 15-minute interval values\n",
    "df_electricity_only_hourly = df_electricity_only.resample('H').sum()\n",
    "\n",
    "# Add two new columns: one for the sum of \"baseline\" columns and another for \"upgrade\" columns\n",
    "df_electricity_only_hourly['Total Baseline Consumption'] = df_electricity_only_hourly.filter(like='baseline').sum(axis=1)\n",
    "df_electricity_only_hourly['Total Upgrade Consumption'] = df_electricity_only_hourly.filter(like='upgrade').sum(axis=1)\n",
    "\n",
    "# Define the output file path\n",
    "output_file_path = 'your_output_file_path.csv'\n",
    "\n",
    "# Save the aggregated, filtered data with the total sum per category (baseline and upgrade) to a new CSV file\n",
    "df_electricity_only_hourly.to_csv(output_file_path)\n",
    "\n",
    "print(f'Data aggregated, category sums calculated, and saved to {output_file_path}')\n"
   ]
  }
 ],
 "metadata": {
  "kernelspec": {
   "display_name": "Python 3 (ipykernel)",
   "language": "python",
   "name": "python3"
  },
  "language_info": {
   "codemirror_mode": {
    "name": "ipython",
    "version": 3
   },
   "file_extension": ".py",
   "mimetype": "text/x-python",
   "name": "python",
   "nbconvert_exporter": "python",
   "pygments_lexer": "ipython3",
   "version": "3.9.13"
  }
 },
 "nbformat": 4,
 "nbformat_minor": 5
}
